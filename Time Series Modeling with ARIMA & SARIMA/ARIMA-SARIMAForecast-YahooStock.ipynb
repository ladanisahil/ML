{
 "cells": [
  {
   "cell_type": "markdown",
   "id": "56f247d0",
   "metadata": {},
   "source": [
    "# ARIMA-SARIMA Forecast \n",
    "\n",
    "- Yahoo Stock"
   ]
  },
  {
   "cell_type": "markdown",
   "id": "dd175cbd",
   "metadata": {},
   "source": [
    "### Step 1: Import necessary libraries"
   ]
  },
  {
   "cell_type": "code",
   "execution_count": 10,
   "id": "653bfa4c",
   "metadata": {},
   "outputs": [],
   "source": [
    "import pandas as pd\n",
    "import numpy as np\n",
    "import matplotlib.pyplot as plt\n",
    "from statsmodels.tsa.arima.model import ARIMA\n",
    "from statsmodels.tsa.statespace.sarimax import SARIMAX\n",
    "import warnings\n",
    "warnings.filterwarnings(\"ignore\")"
   ]
  },
  {
   "cell_type": "markdown",
   "id": "afb9754c",
   "metadata": {},
   "source": [
    "### Step 2: Load and prepare the dataset"
   ]
  },
  {
   "cell_type": "code",
   "execution_count": 11,
   "id": "9843ee8b",
   "metadata": {},
   "outputs": [
    {
     "data": {
      "text/html": [
       "<div>\n",
       "<style scoped>\n",
       "    .dataframe tbody tr th:only-of-type {\n",
       "        vertical-align: middle;\n",
       "    }\n",
       "\n",
       "    .dataframe tbody tr th {\n",
       "        vertical-align: top;\n",
       "    }\n",
       "\n",
       "    .dataframe thead th {\n",
       "        text-align: right;\n",
       "    }\n",
       "</style>\n",
       "<table border=\"1\" class=\"dataframe\">\n",
       "  <thead>\n",
       "    <tr style=\"text-align: right;\">\n",
       "      <th></th>\n",
       "      <th>Date</th>\n",
       "      <th>High</th>\n",
       "      <th>Low</th>\n",
       "      <th>Open</th>\n",
       "      <th>Close</th>\n",
       "      <th>Volume</th>\n",
       "      <th>Adj Close</th>\n",
       "    </tr>\n",
       "  </thead>\n",
       "  <tbody>\n",
       "    <tr>\n",
       "      <th>0</th>\n",
       "      <td>2015-11-23</td>\n",
       "      <td>2095.610107</td>\n",
       "      <td>2081.389893</td>\n",
       "      <td>2089.409912</td>\n",
       "      <td>2086.590088</td>\n",
       "      <td>3.587980e+09</td>\n",
       "      <td>2086.590088</td>\n",
       "    </tr>\n",
       "    <tr>\n",
       "      <th>1</th>\n",
       "      <td>2015-11-24</td>\n",
       "      <td>2094.120117</td>\n",
       "      <td>2070.290039</td>\n",
       "      <td>2084.419922</td>\n",
       "      <td>2089.139893</td>\n",
       "      <td>3.884930e+09</td>\n",
       "      <td>2089.139893</td>\n",
       "    </tr>\n",
       "    <tr>\n",
       "      <th>2</th>\n",
       "      <td>2015-11-25</td>\n",
       "      <td>2093.000000</td>\n",
       "      <td>2086.300049</td>\n",
       "      <td>2089.300049</td>\n",
       "      <td>2088.870117</td>\n",
       "      <td>2.852940e+09</td>\n",
       "      <td>2088.870117</td>\n",
       "    </tr>\n",
       "    <tr>\n",
       "      <th>3</th>\n",
       "      <td>2015-11-26</td>\n",
       "      <td>2093.000000</td>\n",
       "      <td>2086.300049</td>\n",
       "      <td>2089.300049</td>\n",
       "      <td>2088.870117</td>\n",
       "      <td>2.852940e+09</td>\n",
       "      <td>2088.870117</td>\n",
       "    </tr>\n",
       "    <tr>\n",
       "      <th>4</th>\n",
       "      <td>2015-11-27</td>\n",
       "      <td>2093.290039</td>\n",
       "      <td>2084.129883</td>\n",
       "      <td>2088.820068</td>\n",
       "      <td>2090.110107</td>\n",
       "      <td>1.466840e+09</td>\n",
       "      <td>2090.110107</td>\n",
       "    </tr>\n",
       "    <tr>\n",
       "      <th>...</th>\n",
       "      <td>...</td>\n",
       "      <td>...</td>\n",
       "      <td>...</td>\n",
       "      <td>...</td>\n",
       "      <td>...</td>\n",
       "      <td>...</td>\n",
       "      <td>...</td>\n",
       "    </tr>\n",
       "    <tr>\n",
       "      <th>1820</th>\n",
       "      <td>2020-11-16</td>\n",
       "      <td>3628.510010</td>\n",
       "      <td>3600.159912</td>\n",
       "      <td>3600.159912</td>\n",
       "      <td>3626.909912</td>\n",
       "      <td>5.281980e+09</td>\n",
       "      <td>3626.909912</td>\n",
       "    </tr>\n",
       "    <tr>\n",
       "      <th>1821</th>\n",
       "      <td>2020-11-17</td>\n",
       "      <td>3623.110107</td>\n",
       "      <td>3588.679932</td>\n",
       "      <td>3610.310059</td>\n",
       "      <td>3609.530029</td>\n",
       "      <td>4.799570e+09</td>\n",
       "      <td>3609.530029</td>\n",
       "    </tr>\n",
       "    <tr>\n",
       "      <th>1822</th>\n",
       "      <td>2020-11-18</td>\n",
       "      <td>3619.090088</td>\n",
       "      <td>3567.330078</td>\n",
       "      <td>3612.090088</td>\n",
       "      <td>3567.790039</td>\n",
       "      <td>5.274450e+09</td>\n",
       "      <td>3567.790039</td>\n",
       "    </tr>\n",
       "    <tr>\n",
       "      <th>1823</th>\n",
       "      <td>2020-11-19</td>\n",
       "      <td>3585.219971</td>\n",
       "      <td>3543.840088</td>\n",
       "      <td>3559.409912</td>\n",
       "      <td>3581.870117</td>\n",
       "      <td>4.347200e+09</td>\n",
       "      <td>3581.870117</td>\n",
       "    </tr>\n",
       "    <tr>\n",
       "      <th>1824</th>\n",
       "      <td>2020-11-20</td>\n",
       "      <td>3581.229980</td>\n",
       "      <td>3556.850098</td>\n",
       "      <td>3579.310059</td>\n",
       "      <td>3557.540039</td>\n",
       "      <td>2.236662e+09</td>\n",
       "      <td>3557.540039</td>\n",
       "    </tr>\n",
       "  </tbody>\n",
       "</table>\n",
       "<p>1825 rows × 7 columns</p>\n",
       "</div>"
      ],
      "text/plain": [
       "            Date         High          Low         Open        Close  \\\n",
       "0     2015-11-23  2095.610107  2081.389893  2089.409912  2086.590088   \n",
       "1     2015-11-24  2094.120117  2070.290039  2084.419922  2089.139893   \n",
       "2     2015-11-25  2093.000000  2086.300049  2089.300049  2088.870117   \n",
       "3     2015-11-26  2093.000000  2086.300049  2089.300049  2088.870117   \n",
       "4     2015-11-27  2093.290039  2084.129883  2088.820068  2090.110107   \n",
       "...          ...          ...          ...          ...          ...   \n",
       "1820  2020-11-16  3628.510010  3600.159912  3600.159912  3626.909912   \n",
       "1821  2020-11-17  3623.110107  3588.679932  3610.310059  3609.530029   \n",
       "1822  2020-11-18  3619.090088  3567.330078  3612.090088  3567.790039   \n",
       "1823  2020-11-19  3585.219971  3543.840088  3559.409912  3581.870117   \n",
       "1824  2020-11-20  3581.229980  3556.850098  3579.310059  3557.540039   \n",
       "\n",
       "            Volume    Adj Close  \n",
       "0     3.587980e+09  2086.590088  \n",
       "1     3.884930e+09  2089.139893  \n",
       "2     2.852940e+09  2088.870117  \n",
       "3     2.852940e+09  2088.870117  \n",
       "4     1.466840e+09  2090.110107  \n",
       "...            ...          ...  \n",
       "1820  5.281980e+09  3626.909912  \n",
       "1821  4.799570e+09  3609.530029  \n",
       "1822  5.274450e+09  3567.790039  \n",
       "1823  4.347200e+09  3581.870117  \n",
       "1824  2.236662e+09  3557.540039  \n",
       "\n",
       "[1825 rows x 7 columns]"
      ]
     },
     "execution_count": 11,
     "metadata": {},
     "output_type": "execute_result"
    }
   ],
   "source": [
    "data = pd.read_csv('yahoo_stock.csv')\n",
    "data"
   ]
  },
  {
   "cell_type": "code",
   "execution_count": 12,
   "id": "86aa4444",
   "metadata": {},
   "outputs": [
    {
     "name": "stdout",
     "output_type": "stream",
     "text": [
      "<class 'pandas.core.frame.DataFrame'>\n",
      "RangeIndex: 1825 entries, 0 to 1824\n",
      "Data columns (total 7 columns):\n",
      " #   Column     Non-Null Count  Dtype  \n",
      "---  ------     --------------  -----  \n",
      " 0   Date       1825 non-null   object \n",
      " 1   High       1825 non-null   float64\n",
      " 2   Low        1825 non-null   float64\n",
      " 3   Open       1825 non-null   float64\n",
      " 4   Close      1825 non-null   float64\n",
      " 5   Volume     1825 non-null   float64\n",
      " 6   Adj Close  1825 non-null   float64\n",
      "dtypes: float64(6), object(1)\n",
      "memory usage: 99.9+ KB\n"
     ]
    }
   ],
   "source": [
    "data.info()"
   ]
  },
  {
   "cell_type": "code",
   "execution_count": 13,
   "id": "c815bc11",
   "metadata": {},
   "outputs": [],
   "source": [
    "data['Date'] = pd.to_datetime(data['Date'])\n",
    "data.set_index('Date', inplace=True)"
   ]
  },
  {
   "cell_type": "code",
   "execution_count": 14,
   "id": "c5205a5a",
   "metadata": {},
   "outputs": [
    {
     "data": {
      "text/html": [
       "<div>\n",
       "<style scoped>\n",
       "    .dataframe tbody tr th:only-of-type {\n",
       "        vertical-align: middle;\n",
       "    }\n",
       "\n",
       "    .dataframe tbody tr th {\n",
       "        vertical-align: top;\n",
       "    }\n",
       "\n",
       "    .dataframe thead th {\n",
       "        text-align: right;\n",
       "    }\n",
       "</style>\n",
       "<table border=\"1\" class=\"dataframe\">\n",
       "  <thead>\n",
       "    <tr style=\"text-align: right;\">\n",
       "      <th></th>\n",
       "      <th>High</th>\n",
       "      <th>Low</th>\n",
       "      <th>Open</th>\n",
       "      <th>Close</th>\n",
       "      <th>Volume</th>\n",
       "      <th>Adj Close</th>\n",
       "    </tr>\n",
       "    <tr>\n",
       "      <th>Date</th>\n",
       "      <th></th>\n",
       "      <th></th>\n",
       "      <th></th>\n",
       "      <th></th>\n",
       "      <th></th>\n",
       "      <th></th>\n",
       "    </tr>\n",
       "  </thead>\n",
       "  <tbody>\n",
       "    <tr>\n",
       "      <th>2015-11-23</th>\n",
       "      <td>2095.610107</td>\n",
       "      <td>2081.389893</td>\n",
       "      <td>2089.409912</td>\n",
       "      <td>2086.590088</td>\n",
       "      <td>3.587980e+09</td>\n",
       "      <td>2086.590088</td>\n",
       "    </tr>\n",
       "    <tr>\n",
       "      <th>2015-11-24</th>\n",
       "      <td>2094.120117</td>\n",
       "      <td>2070.290039</td>\n",
       "      <td>2084.419922</td>\n",
       "      <td>2089.139893</td>\n",
       "      <td>3.884930e+09</td>\n",
       "      <td>2089.139893</td>\n",
       "    </tr>\n",
       "    <tr>\n",
       "      <th>2015-11-25</th>\n",
       "      <td>2093.000000</td>\n",
       "      <td>2086.300049</td>\n",
       "      <td>2089.300049</td>\n",
       "      <td>2088.870117</td>\n",
       "      <td>2.852940e+09</td>\n",
       "      <td>2088.870117</td>\n",
       "    </tr>\n",
       "    <tr>\n",
       "      <th>2015-11-26</th>\n",
       "      <td>2093.000000</td>\n",
       "      <td>2086.300049</td>\n",
       "      <td>2089.300049</td>\n",
       "      <td>2088.870117</td>\n",
       "      <td>2.852940e+09</td>\n",
       "      <td>2088.870117</td>\n",
       "    </tr>\n",
       "    <tr>\n",
       "      <th>2015-11-27</th>\n",
       "      <td>2093.290039</td>\n",
       "      <td>2084.129883</td>\n",
       "      <td>2088.820068</td>\n",
       "      <td>2090.110107</td>\n",
       "      <td>1.466840e+09</td>\n",
       "      <td>2090.110107</td>\n",
       "    </tr>\n",
       "    <tr>\n",
       "      <th>...</th>\n",
       "      <td>...</td>\n",
       "      <td>...</td>\n",
       "      <td>...</td>\n",
       "      <td>...</td>\n",
       "      <td>...</td>\n",
       "      <td>...</td>\n",
       "    </tr>\n",
       "    <tr>\n",
       "      <th>2020-11-16</th>\n",
       "      <td>3628.510010</td>\n",
       "      <td>3600.159912</td>\n",
       "      <td>3600.159912</td>\n",
       "      <td>3626.909912</td>\n",
       "      <td>5.281980e+09</td>\n",
       "      <td>3626.909912</td>\n",
       "    </tr>\n",
       "    <tr>\n",
       "      <th>2020-11-17</th>\n",
       "      <td>3623.110107</td>\n",
       "      <td>3588.679932</td>\n",
       "      <td>3610.310059</td>\n",
       "      <td>3609.530029</td>\n",
       "      <td>4.799570e+09</td>\n",
       "      <td>3609.530029</td>\n",
       "    </tr>\n",
       "    <tr>\n",
       "      <th>2020-11-18</th>\n",
       "      <td>3619.090088</td>\n",
       "      <td>3567.330078</td>\n",
       "      <td>3612.090088</td>\n",
       "      <td>3567.790039</td>\n",
       "      <td>5.274450e+09</td>\n",
       "      <td>3567.790039</td>\n",
       "    </tr>\n",
       "    <tr>\n",
       "      <th>2020-11-19</th>\n",
       "      <td>3585.219971</td>\n",
       "      <td>3543.840088</td>\n",
       "      <td>3559.409912</td>\n",
       "      <td>3581.870117</td>\n",
       "      <td>4.347200e+09</td>\n",
       "      <td>3581.870117</td>\n",
       "    </tr>\n",
       "    <tr>\n",
       "      <th>2020-11-20</th>\n",
       "      <td>3581.229980</td>\n",
       "      <td>3556.850098</td>\n",
       "      <td>3579.310059</td>\n",
       "      <td>3557.540039</td>\n",
       "      <td>2.236662e+09</td>\n",
       "      <td>3557.540039</td>\n",
       "    </tr>\n",
       "  </tbody>\n",
       "</table>\n",
       "<p>1825 rows × 6 columns</p>\n",
       "</div>"
      ],
      "text/plain": [
       "                   High          Low         Open        Close        Volume  \\\n",
       "Date                                                                           \n",
       "2015-11-23  2095.610107  2081.389893  2089.409912  2086.590088  3.587980e+09   \n",
       "2015-11-24  2094.120117  2070.290039  2084.419922  2089.139893  3.884930e+09   \n",
       "2015-11-25  2093.000000  2086.300049  2089.300049  2088.870117  2.852940e+09   \n",
       "2015-11-26  2093.000000  2086.300049  2089.300049  2088.870117  2.852940e+09   \n",
       "2015-11-27  2093.290039  2084.129883  2088.820068  2090.110107  1.466840e+09   \n",
       "...                 ...          ...          ...          ...           ...   \n",
       "2020-11-16  3628.510010  3600.159912  3600.159912  3626.909912  5.281980e+09   \n",
       "2020-11-17  3623.110107  3588.679932  3610.310059  3609.530029  4.799570e+09   \n",
       "2020-11-18  3619.090088  3567.330078  3612.090088  3567.790039  5.274450e+09   \n",
       "2020-11-19  3585.219971  3543.840088  3559.409912  3581.870117  4.347200e+09   \n",
       "2020-11-20  3581.229980  3556.850098  3579.310059  3557.540039  2.236662e+09   \n",
       "\n",
       "              Adj Close  \n",
       "Date                     \n",
       "2015-11-23  2086.590088  \n",
       "2015-11-24  2089.139893  \n",
       "2015-11-25  2088.870117  \n",
       "2015-11-26  2088.870117  \n",
       "2015-11-27  2090.110107  \n",
       "...                 ...  \n",
       "2020-11-16  3626.909912  \n",
       "2020-11-17  3609.530029  \n",
       "2020-11-18  3567.790039  \n",
       "2020-11-19  3581.870117  \n",
       "2020-11-20  3557.540039  \n",
       "\n",
       "[1825 rows x 6 columns]"
      ]
     },
     "execution_count": 14,
     "metadata": {},
     "output_type": "execute_result"
    }
   ],
   "source": [
    "data"
   ]
  },
  {
   "cell_type": "code",
   "execution_count": 15,
   "id": "052685b6",
   "metadata": {},
   "outputs": [
    {
     "data": {
      "text/plain": [
       "Date\n",
       "2015-11-23    2086.590088\n",
       "2015-11-24    2089.139893\n",
       "2015-11-25    2088.870117\n",
       "2015-11-26    2088.870117\n",
       "2015-11-27    2090.110107\n",
       "                 ...     \n",
       "2020-11-16    3626.909912\n",
       "2020-11-17    3609.530029\n",
       "2020-11-18    3567.790039\n",
       "2020-11-19    3581.870117\n",
       "2020-11-20    3557.540039\n",
       "Name: Close, Length: 1825, dtype: float64"
      ]
     },
     "execution_count": 15,
     "metadata": {},
     "output_type": "execute_result"
    }
   ],
   "source": [
    "stock_data = data['Close']\n",
    "stock_data"
   ]
  },
  {
   "cell_type": "markdown",
   "id": "93ca6edf",
   "metadata": {},
   "source": [
    "### Step 3: Split the data into training and testing sets"
   ]
  },
  {
   "cell_type": "code",
   "execution_count": 16,
   "id": "e23473b8",
   "metadata": {},
   "outputs": [],
   "source": [
    "train_size = int(len(stock_data) * 0.8)\n",
    "train, test = stock_data[:train_size], stock_data[train_size:]"
   ]
  },
  {
   "cell_type": "code",
   "execution_count": 18,
   "id": "10c56e02",
   "metadata": {},
   "outputs": [
    {
     "data": {
      "text/plain": [
       "Date\n",
       "2019-11-22    3110.290039\n",
       "2019-11-23    3110.290039\n",
       "2019-11-24    3110.290039\n",
       "2019-11-25    3133.639893\n",
       "2019-11-26    3140.520020\n",
       "                 ...     \n",
       "2020-11-16    3626.909912\n",
       "2020-11-17    3609.530029\n",
       "2020-11-18    3567.790039\n",
       "2020-11-19    3581.870117\n",
       "2020-11-20    3557.540039\n",
       "Name: Close, Length: 365, dtype: float64"
      ]
     },
     "execution_count": 18,
     "metadata": {},
     "output_type": "execute_result"
    }
   ],
   "source": [
    "test"
   ]
  },
  {
   "cell_type": "markdown",
   "id": "5d76ef69",
   "metadata": {},
   "source": [
    "### Step 4: Train the ARIMA model"
   ]
  },
  {
   "cell_type": "code",
   "execution_count": 30,
   "id": "f14c9e46",
   "metadata": {},
   "outputs": [],
   "source": [
    "p, d, q = 1, 1, 1\n",
    "model_arima = ARIMA(train, order=(p, d, q))\n",
    "results_arima = model_arima.fit()"
   ]
  },
  {
   "cell_type": "code",
   "execution_count": 31,
   "id": "91502a05",
   "metadata": {},
   "outputs": [],
   "source": [
    "# p = 1: The model considers 1 lagged observation for the AR part (i.e., it uses the most recent observation to predict the next one).\n",
    "# d = 1: The model applies first-order differencing to make the data stationary (removing trends by subtracting the previous value from \n",
    "# the current value).\n",
    "# q = 1: The model uses 1 lagged error term for the MA part, meaning it uses the residual error from the previous time step to correct \n",
    "# future predictions."
   ]
  },
  {
   "cell_type": "markdown",
   "id": "a69eceec",
   "metadata": {},
   "source": [
    "### Step 5: Forecast using the ARIMA model"
   ]
  },
  {
   "cell_type": "code",
   "execution_count": 32,
   "id": "fe5bfa2a",
   "metadata": {},
   "outputs": [],
   "source": [
    "forecast_arima = results_arima.predict(start=len(train), end=len(train) + len(test) - 1, typ='levels')"
   ]
  },
  {
   "cell_type": "code",
   "execution_count": 33,
   "id": "efcf7247",
   "metadata": {},
   "outputs": [
    {
     "data": {
      "text/plain": [
       "2019-11-22    3104.431071\n",
       "2019-11-23    3104.043145\n",
       "2019-11-24    3104.313113\n",
       "2019-11-25    3104.106475\n",
       "2019-11-26    3104.266818\n",
       "                 ...     \n",
       "2020-11-16    3104.196694\n",
       "2020-11-17    3104.196694\n",
       "2020-11-18    3104.196694\n",
       "2020-11-19    3104.196694\n",
       "2020-11-20    3104.196694\n",
       "Freq: D, Name: predicted_mean, Length: 365, dtype: float64"
      ]
     },
     "execution_count": 33,
     "metadata": {},
     "output_type": "execute_result"
    }
   ],
   "source": [
    "forecast_arima"
   ]
  },
  {
   "cell_type": "markdown",
   "id": "0f901614",
   "metadata": {},
   "source": [
    "### Step 6: Train the SARIMA model"
   ]
  },
  {
   "cell_type": "code",
   "execution_count": 34,
   "id": "ff396ea7",
   "metadata": {},
   "outputs": [],
   "source": [
    "p, d, q, P, D, Q, s = 1, 1, 1, 1, 1, 1, 12\n",
    "model_sarima = SARIMAX(train, order=(p, d, q), seasonal_order=(P, D, Q, s))\n",
    "results_sarima = model_sarima.fit()"
   ]
  },
  {
   "cell_type": "markdown",
   "id": "f7252262",
   "metadata": {},
   "source": [
    "### Step 7: Forecast using the SARIMA model"
   ]
  },
  {
   "cell_type": "code",
   "execution_count": 35,
   "id": "6155696c",
   "metadata": {},
   "outputs": [],
   "source": [
    "forecast_sarima = results_sarima.predict(start=len(train), end=len(train) + len(test) - 1, typ='levels')"
   ]
  },
  {
   "cell_type": "code",
   "execution_count": 36,
   "id": "80e1c9c3",
   "metadata": {},
   "outputs": [
    {
     "data": {
      "text/plain": [
       "2019-11-22    3105.033002\n",
       "2019-11-23    3105.877249\n",
       "2019-11-24    3107.912197\n",
       "2019-11-25    3108.227291\n",
       "2019-11-26    3111.152625\n",
       "                 ...     \n",
       "2020-11-16    3357.830837\n",
       "2020-11-17    3359.016352\n",
       "2020-11-18    3360.710291\n",
       "2020-11-19    3361.460213\n",
       "2020-11-20    3364.100266\n",
       "Freq: D, Name: predicted_mean, Length: 365, dtype: float64"
      ]
     },
     "execution_count": 36,
     "metadata": {},
     "output_type": "execute_result"
    }
   ],
   "source": [
    "forecast_sarima"
   ]
  },
  {
   "cell_type": "code",
   "execution_count": 37,
   "id": "9ec46496",
   "metadata": {},
   "outputs": [
    {
     "data": {
      "text/plain": [
       "Date\n",
       "2019-11-22    3110.290039\n",
       "2019-11-23    3110.290039\n",
       "2019-11-24    3110.290039\n",
       "2019-11-25    3133.639893\n",
       "2019-11-26    3140.520020\n",
       "                 ...     \n",
       "2020-11-16    3626.909912\n",
       "2020-11-17    3609.530029\n",
       "2020-11-18    3567.790039\n",
       "2020-11-19    3581.870117\n",
       "2020-11-20    3557.540039\n",
       "Name: Close, Length: 365, dtype: float64"
      ]
     },
     "execution_count": 37,
     "metadata": {},
     "output_type": "execute_result"
    }
   ],
   "source": [
    "test"
   ]
  },
  {
   "cell_type": "markdown",
   "id": "4cbc5aad",
   "metadata": {},
   "source": [
    "### Step 8: Plot the ARIMA and SARIMA forecasts"
   ]
  },
  {
   "cell_type": "code",
   "execution_count": 38,
   "id": "32451dfd",
   "metadata": {},
   "outputs": [
    {
     "data": {
      "image/png": "[encoded data removed]",
      "text/plain": [
       "<Figure size 1200x600 with 1 Axes>"
      ]
     },
     "metadata": {},
     "output_type": "display_data"
    }
   ],
   "source": [
    "plt.figure(figsize=(12, 6))\n",
    "plt.plot(train, label='Training Data')\n",
    "plt.plot(test, label='Test Data')\n",
    "plt.plot(forecast_arima, label='ARIMA Forecast')\n",
    "plt.plot(forecast_sarima, label='SARIMA Forecast')\n",
    "plt.title('ARIMA and SARIMA Forecast for Yahoo Stock Prices')\n",
    "plt.legend()\n",
    "plt.show()"
   ]
  },
  {
   "cell_type": "code",
   "execution_count": null,
   "id": "0df6861f",
   "metadata": {},
   "outputs": [],
   "source": []
  }
 ],
 "metadata": {
  "kernelspec": {
   "display_name": "env",
   "language": "python",
   "name": "python3"
  },
  "language_info": {
   "codemirror_mode": {
    "name": "ipython",
    "version": 3
   },
   "file_extension": ".py",
   "mimetype": "text/x-python",
   "name": "python",
   "nbconvert_exporter": "python",
   "pygments_lexer": "ipython3",
   "version": "3.11.9"
  }
 },
 "nbformat": 4,
 "nbformat_minor": 5
}
