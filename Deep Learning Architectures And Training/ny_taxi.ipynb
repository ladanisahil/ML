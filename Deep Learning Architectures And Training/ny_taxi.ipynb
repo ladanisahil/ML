{
 "cells": [
  {
   "cell_type": "code",
   "execution_count": 1,
   "metadata": {},
   "outputs": [],
   "source": [
    "import pandas as pd\n",
    "import numpy as np\n",
    "import matplotlib.pyplot as plt\n",
    "from sklearn.preprocessing import MinMaxScaler\n",
    "from sklearn.model_selection import train_test_split\n",
    "import  tensorflow as tf\n",
    "from tensorflow import keras\n",
    "from sklearn.metrics import mean_squared_error"
   ]
  },
  {
   "cell_type": "code",
   "execution_count": 2,
   "metadata": {},
   "outputs": [
    {
     "data": {
      "text/html": [
       "<div>\n",
       "<style scoped>\n",
       "    .dataframe tbody tr th:only-of-type {\n",
       "        vertical-align: middle;\n",
       "    }\n",
       "\n",
       "    .dataframe tbody tr th {\n",
       "        vertical-align: top;\n",
       "    }\n",
       "\n",
       "    .dataframe thead th {\n",
       "        text-align: right;\n",
       "    }\n",
       "</style>\n",
       "<table border=\"1\" class=\"dataframe\">\n",
       "  <thead>\n",
       "    <tr style=\"text-align: right;\">\n",
       "      <th></th>\n",
       "      <th>id</th>\n",
       "      <th>vendor_id</th>\n",
       "      <th>pickup_datetime</th>\n",
       "      <th>dropoff_datetime</th>\n",
       "      <th>passenger_count</th>\n",
       "      <th>pickup_longitude</th>\n",
       "      <th>pickup_latitude</th>\n",
       "      <th>dropoff_longitude</th>\n",
       "      <th>dropoff_latitude</th>\n",
       "      <th>store_and_fwd_flag</th>\n",
       "    </tr>\n",
       "  </thead>\n",
       "  <tbody>\n",
       "    <tr>\n",
       "      <th>0</th>\n",
       "      <td>id2875421</td>\n",
       "      <td>2</td>\n",
       "      <td>14-03-2016 17:24</td>\n",
       "      <td>14-03-2016 17:32</td>\n",
       "      <td>1</td>\n",
       "      <td>-73.982155</td>\n",
       "      <td>40.767937</td>\n",
       "      <td>-73.964630</td>\n",
       "      <td>40.765602</td>\n",
       "      <td>N</td>\n",
       "    </tr>\n",
       "    <tr>\n",
       "      <th>1</th>\n",
       "      <td>id2377394</td>\n",
       "      <td>1</td>\n",
       "      <td>12-06-2016 00:43</td>\n",
       "      <td>12-06-2016 00:54</td>\n",
       "      <td>1</td>\n",
       "      <td>-73.980415</td>\n",
       "      <td>40.738564</td>\n",
       "      <td>-73.999481</td>\n",
       "      <td>40.731152</td>\n",
       "      <td>N</td>\n",
       "    </tr>\n",
       "    <tr>\n",
       "      <th>2</th>\n",
       "      <td>id3858529</td>\n",
       "      <td>2</td>\n",
       "      <td>19-01-2016 11:35</td>\n",
       "      <td>19-01-2016 12:10</td>\n",
       "      <td>1</td>\n",
       "      <td>-73.979027</td>\n",
       "      <td>40.763939</td>\n",
       "      <td>-74.005333</td>\n",
       "      <td>40.710087</td>\n",
       "      <td>N</td>\n",
       "    </tr>\n",
       "    <tr>\n",
       "      <th>3</th>\n",
       "      <td>id3504673</td>\n",
       "      <td>2</td>\n",
       "      <td>06-04-2016 19:32</td>\n",
       "      <td>06-04-2016 19:39</td>\n",
       "      <td>1</td>\n",
       "      <td>-74.010040</td>\n",
       "      <td>40.719971</td>\n",
       "      <td>-74.012268</td>\n",
       "      <td>40.706718</td>\n",
       "      <td>N</td>\n",
       "    </tr>\n",
       "    <tr>\n",
       "      <th>4</th>\n",
       "      <td>id2181028</td>\n",
       "      <td>2</td>\n",
       "      <td>26-03-2016 13:30</td>\n",
       "      <td>26-03-2016 13:38</td>\n",
       "      <td>1</td>\n",
       "      <td>-73.973053</td>\n",
       "      <td>40.793209</td>\n",
       "      <td>-73.972923</td>\n",
       "      <td>40.782520</td>\n",
       "      <td>N</td>\n",
       "    </tr>\n",
       "    <tr>\n",
       "      <th>...</th>\n",
       "      <td>...</td>\n",
       "      <td>...</td>\n",
       "      <td>...</td>\n",
       "      <td>...</td>\n",
       "      <td>...</td>\n",
       "      <td>...</td>\n",
       "      <td>...</td>\n",
       "      <td>...</td>\n",
       "      <td>...</td>\n",
       "      <td>...</td>\n",
       "    </tr>\n",
       "    <tr>\n",
       "      <th>16095</th>\n",
       "      <td>id1197632</td>\n",
       "      <td>1</td>\n",
       "      <td>27-05-2016 09:38</td>\n",
       "      <td>27-05-2016 09:48</td>\n",
       "      <td>1</td>\n",
       "      <td>-73.940025</td>\n",
       "      <td>40.751556</td>\n",
       "      <td>-73.970116</td>\n",
       "      <td>40.754772</td>\n",
       "      <td>N</td>\n",
       "    </tr>\n",
       "    <tr>\n",
       "      <th>16096</th>\n",
       "      <td>id3503918</td>\n",
       "      <td>2</td>\n",
       "      <td>07-01-2016 20:42</td>\n",
       "      <td>07-01-2016 20:55</td>\n",
       "      <td>1</td>\n",
       "      <td>-73.963051</td>\n",
       "      <td>40.799149</td>\n",
       "      <td>-73.953934</td>\n",
       "      <td>40.766590</td>\n",
       "      <td>N</td>\n",
       "    </tr>\n",
       "    <tr>\n",
       "      <th>16097</th>\n",
       "      <td>id2857349</td>\n",
       "      <td>1</td>\n",
       "      <td>10-01-2016 15:41</td>\n",
       "      <td>10-01-2016 15:47</td>\n",
       "      <td>1</td>\n",
       "      <td>-73.912605</td>\n",
       "      <td>40.774769</td>\n",
       "      <td>-73.922478</td>\n",
       "      <td>40.765701</td>\n",
       "      <td>N</td>\n",
       "    </tr>\n",
       "    <tr>\n",
       "      <th>16098</th>\n",
       "      <td>id3803774</td>\n",
       "      <td>1</td>\n",
       "      <td>20-01-2016 16:25</td>\n",
       "      <td>20-01-2016 16:37</td>\n",
       "      <td>1</td>\n",
       "      <td>-73.983444</td>\n",
       "      <td>40.755722</td>\n",
       "      <td>-73.978958</td>\n",
       "      <td>40.782188</td>\n",
       "      <td>N</td>\n",
       "    </tr>\n",
       "    <tr>\n",
       "      <th>16099</th>\n",
       "      <td>id0357773</td>\n",
       "      <td>2</td>\n",
       "      <td>07-03-2016 08:06</td>\n",
       "      <td>07-03-2016 08:18</td>\n",
       "      <td>1</td>\n",
       "      <td>-74.000763</td>\n",
       "      <td>40.747421</td>\n",
       "      <td>-73.980850</td>\n",
       "      <td>40.758770</td>\n",
       "      <td>N</td>\n",
       "    </tr>\n",
       "  </tbody>\n",
       "</table>\n",
       "<p>16100 rows × 10 columns</p>\n",
       "</div>"
      ],
      "text/plain": [
       "              id  vendor_id   pickup_datetime  dropoff_datetime  \\\n",
       "0      id2875421          2  14-03-2016 17:24  14-03-2016 17:32   \n",
       "1      id2377394          1  12-06-2016 00:43  12-06-2016 00:54   \n",
       "2      id3858529          2  19-01-2016 11:35  19-01-2016 12:10   \n",
       "3      id3504673          2  06-04-2016 19:32  06-04-2016 19:39   \n",
       "4      id2181028          2  26-03-2016 13:30  26-03-2016 13:38   \n",
       "...          ...        ...               ...               ...   \n",
       "16095  id1197632          1  27-05-2016 09:38  27-05-2016 09:48   \n",
       "16096  id3503918          2  07-01-2016 20:42  07-01-2016 20:55   \n",
       "16097  id2857349          1  10-01-2016 15:41  10-01-2016 15:47   \n",
       "16098  id3803774          1  20-01-2016 16:25  20-01-2016 16:37   \n",
       "16099  id0357773          2  07-03-2016 08:06  07-03-2016 08:18   \n",
       "\n",
       "       passenger_count  pickup_longitude  pickup_latitude  dropoff_longitude  \\\n",
       "0                    1        -73.982155        40.767937         -73.964630   \n",
       "1                    1        -73.980415        40.738564         -73.999481   \n",
       "2                    1        -73.979027        40.763939         -74.005333   \n",
       "3                    1        -74.010040        40.719971         -74.012268   \n",
       "4                    1        -73.973053        40.793209         -73.972923   \n",
       "...                ...               ...              ...                ...   \n",
       "16095                1        -73.940025        40.751556         -73.970116   \n",
       "16096                1        -73.963051        40.799149         -73.953934   \n",
       "16097                1        -73.912605        40.774769         -73.922478   \n",
       "16098                1        -73.983444        40.755722         -73.978958   \n",
       "16099                1        -74.000763        40.747421         -73.980850   \n",
       "\n",
       "       dropoff_latitude store_and_fwd_flag  \n",
       "0             40.765602                  N  \n",
       "1             40.731152                  N  \n",
       "2             40.710087                  N  \n",
       "3             40.706718                  N  \n",
       "4             40.782520                  N  \n",
       "...                 ...                ...  \n",
       "16095         40.754772                  N  \n",
       "16096         40.766590                  N  \n",
       "16097         40.765701                  N  \n",
       "16098         40.782188                  N  \n",
       "16099         40.758770                  N  \n",
       "\n",
       "[16100 rows x 10 columns]"
      ]
     },
     "execution_count": 2,
     "metadata": {},
     "output_type": "execute_result"
    }
   ],
   "source": [
    "df= pd.read_csv('ny_taxi_data.csv')\n",
    "df"
   ]
  },
  {
   "cell_type": "code",
   "execution_count": 3,
   "metadata": {},
   "outputs": [
    {
     "data": {
      "text/plain": [
       "passenger_count\n",
       "1    11371\n",
       "2     2357\n",
       "5      866\n",
       "3      638\n",
       "6      541\n",
       "4      327\n",
       "Name: count, dtype: int64"
      ]
     },
     "execution_count": 3,
     "metadata": {},
     "output_type": "execute_result"
    }
   ],
   "source": [
    "df['passenger_count'].value_counts()\n"
   ]
  },
  {
   "cell_type": "code",
   "execution_count": 4,
   "metadata": {},
   "outputs": [
    {
     "data": {
      "text/plain": [
       "array([1, 1, 1, ..., 1, 1, 1], dtype=int64)"
      ]
     },
     "execution_count": 4,
     "metadata": {},
     "output_type": "execute_result"
    }
   ],
   "source": [
    "data=df['passenger_count'].values\n",
    "data"
   ]
  },
  {
   "cell_type": "code",
   "execution_count": 5,
   "metadata": {},
   "outputs": [],
   "source": [
    "scaler= MinMaxScaler()\n",
    "data = scaler.fit_transform(data.reshape(-1,1))\n",
    "sequence_length =5\n",
    "sequence =[]\n",
    "target =[]\n",
    "\n",
    "for i in range (len(data)-sequence_length):\n",
    "    sequence.append(data[i:i+sequence_length])\n",
    "    target.append(data[i+sequence_length])\n",
    "\n",
    "\n",
    "    sequences =np.array(sequence)\n",
    "    targets =np.array(target)"
   ]
  },
  {
   "cell_type": "code",
   "execution_count": 6,
   "metadata": {},
   "outputs": [],
   "source": [
    "xtrain,xtest,ytrain,ytest= train_test_split( sequences,targets,test_size=0.2,random_state=42)"
   ]
  },
  {
   "cell_type": "code",
   "execution_count": 7,
   "metadata": {},
   "outputs": [
    {
     "name": "stdout",
     "output_type": "stream",
     "text": [
      "(12876, 5, 1)\n"
     ]
    }
   ],
   "source": [
    "print(xtrain.shape)"
   ]
  },
  {
   "cell_type": "code",
   "execution_count": 9,
   "metadata": {},
   "outputs": [
    {
     "name": "stderr",
     "output_type": "stream",
     "text": [
      "d:\\anaconda\\envs\\BIA\\Lib\\site-packages\\keras\\src\\layers\\rnn\\rnn.py:204: UserWarning: Do not pass an `input_shape`/`input_dim` argument to a layer. When using Sequential models, prefer using an `Input(shape)` object as the first layer in the model instead.\n",
      "  super().__init__(**kwargs)\n"
     ]
    }
   ],
   "source": [
    "model_rnn=keras.Sequential(name='RNN')\n",
    "model_rnn.add(keras.layers.SimpleRNN(256,activation='relu',input_shape=(xtrain.shape[1],xtrain.shape[2])))\n",
    "model_rnn.add(keras.layers.Dense(1))\n",
    "model_rnn.compile(optimizer='adam',loss='mean_sqared_error')"
   ]
  },
  {
   "cell_type": "code",
   "execution_count": 10,
   "metadata": {},
   "outputs": [
    {
     "ename": "NameError",
     "evalue": "name 'models' is not defined",
     "output_type": "error",
     "traceback": [
      "\u001b[1;31m---------------------------------------------------------------------------\u001b[0m",
      "\u001b[1;31mNameError\u001b[0m                                 Traceback (most recent call last)",
      "Cell \u001b[1;32mIn[10], line 1\u001b[0m\n\u001b[1;32m----> 1\u001b[0m model_rnn \u001b[38;5;241m=\u001b[39m \u001b[43mmodels\u001b[49m\u001b[38;5;241m.\u001b[39mSequential(name\u001b[38;5;241m=\u001b[39m\u001b[38;5;124m\"\u001b[39m\u001b[38;5;124mRNN\u001b[39m\u001b[38;5;124m\"\u001b[39m)\n\u001b[0;32m      2\u001b[0m model_rnn\u001b[38;5;241m.\u001b[39madd(layers\u001b[38;5;241m.\u001b[39mSimpleRNN(\u001b[38;5;241m100\u001b[39m, activation\u001b[38;5;241m=\u001b[39m\u001b[38;5;124m'\u001b[39m\u001b[38;5;124mrelu\u001b[39m\u001b[38;5;124m'\u001b[39m, return_sequences\u001b[38;5;241m=\u001b[39m\u001b[38;5;28;01mTrue\u001b[39;00m, input_shape\u001b[38;5;241m=\u001b[39m(xtrain\u001b[38;5;241m.\u001b[39mshape[\u001b[38;5;241m1\u001b[39m], \u001b[38;5;241m1\u001b[39m)))\n\u001b[0;32m      3\u001b[0m model_rnn\u001b[38;5;241m.\u001b[39madd(layers\u001b[38;5;241m.\u001b[39mSimpleRNN(\u001b[38;5;241m50\u001b[39m, activation\u001b[38;5;241m=\u001b[39m\u001b[38;5;124m'\u001b[39m\u001b[38;5;124mrelu\u001b[39m\u001b[38;5;124m'\u001b[39m))\n",
      "\u001b[1;31mNameError\u001b[0m: name 'models' is not defined"
     ]
    }
   ],
   "source": [
    "\n",
    "\n",
    "model_rnn = models.Sequential(name=\"RNN\")\n",
    "model_rnn.add(layers.SimpleRNN(100, activation='relu', return_sequences=True, input_shape=(xtrain.shape[1], 1)))\n",
    "model_rnn.add(layers.SimpleRNN(50, activation='relu'))\n",
    "model_rnn.add(layers.Dense(64, activation='relu'))\n",
    "model_rnn.add(layers.Dropout(0.3))\n",
    "model_rnn.add(layers.Dense(32, activation='relu'))\n",
    "model_rnn.add(layers.Dense(1))\n",
    "\n",
    "model_rnn.compile(optimizer='RMSprop', loss='mean_squared_error')"
   ]
  },
  {
   "cell_type": "code",
   "execution_count": 27,
   "metadata": {},
   "outputs": [
    {
     "ename": "AttributeError",
     "evalue": "module 'keras._tf_keras.keras' has no attribute 'sequential'",
     "output_type": "error",
     "traceback": [
      "\u001b[1;31m---------------------------------------------------------------------------\u001b[0m",
      "\u001b[1;31mAttributeError\u001b[0m                            Traceback (most recent call last)",
      "Cell \u001b[1;32mIn[27], line 1\u001b[0m\n\u001b[1;32m----> 1\u001b[0m model_lstm\u001b[38;5;241m=\u001b[39m\u001b[43mkeras\u001b[49m\u001b[38;5;241;43m.\u001b[39;49m\u001b[43msequential\u001b[49m(name\u001b[38;5;241m=\u001b[39m\u001b[38;5;124m'\u001b[39m\u001b[38;5;124mLSTM\u001b[39m\u001b[38;5;124m'\u001b[39m)\n\u001b[0;32m      2\u001b[0m model_lstm\u001b[38;5;241m.\u001b[39madd(keras\u001b[38;5;241m.\u001b[39mlayers\u001b[38;5;241m.\u001b[39mLSTM(\u001b[38;5;241m100\u001b[39m,activation\u001b[38;5;241m=\u001b[39m\u001b[38;5;124m'\u001b[39m\u001b[38;5;124mrelu\u001b[39m\u001b[38;5;124m'\u001b[39m,input_shape\u001b[38;5;241m=\u001b[39m(xtrain\u001b[38;5;241m.\u001b[39mshape[\u001b[38;5;241m1\u001b[39m],xtrain\u001b[38;5;241m.\u001b[39mshape[\u001b[38;5;241m2\u001b[39m])))\n\u001b[0;32m      3\u001b[0m model_lstm\u001b[38;5;241m.\u001b[39madd(keras\u001b[38;5;241m.\u001b[39mlayers\u001b[38;5;241m.\u001b[39mDense(\u001b[38;5;241m1\u001b[39m))\n",
      "\u001b[1;31mAttributeError\u001b[0m: module 'keras._tf_keras.keras' has no attribute 'sequential'"
     ]
    }
   ],
   "source": [
    "model_lstm=keras.Sequential(name='LSTM')\n",
    "model_lstm.add(keras.layers.LSTM(100,activation='relu',input_shape=(xtrain.shape[1],xtrain.shape[2])))\n",
    "model_lstm.add(keras.layers.Dense(1))\n",
    "model_lstm.compile(optimizer='adam',loss='mean_sqared_error')"
   ]
  },
  {
   "cell_type": "code",
   "execution_count": 28,
   "metadata": {},
   "outputs": [
    {
     "ename": "NameError",
     "evalue": "name 'model_lstm' is not defined",
     "output_type": "error",
     "traceback": [
      "\u001b[1;31m---------------------------------------------------------------------------\u001b[0m",
      "\u001b[1;31mNameError\u001b[0m                                 Traceback (most recent call last)",
      "Cell \u001b[1;32mIn[28], line 1\u001b[0m\n\u001b[1;32m----> 1\u001b[0m \u001b[43mmodel_lstm\u001b[49m\u001b[38;5;241m.\u001b[39mfit(xtrain,ytrain,epoch\u001b[38;5;241m=\u001b[39m\u001b[38;5;241m100\u001b[39m,batch_size\u001b[38;5;241m=\u001b[39m\u001b[38;5;241m32\u001b[39m,verbose\u001b[38;5;241m=\u001b[39m\u001b[38;5;241m1\u001b[39m)\n",
      "\u001b[1;31mNameError\u001b[0m: name 'model_lstm' is not defined"
     ]
    }
   ],
   "source": [
    "model_lstm.fit(xtrain,ytrain,epoch=100,batch_size=32,verbose=1)"
   ]
  },
  {
   "cell_type": "code",
   "execution_count": null,
   "metadata": {},
   "outputs": [],
   "source": []
  },
  {
   "cell_type": "code",
   "execution_count": null,
   "metadata": {},
   "outputs": [],
   "source": []
  }
 ],
 "metadata": {
  "kernelspec": {
   "display_name": "BIA",
   "language": "python",
   "name": "python3"
  },
  "language_info": {
   "codemirror_mode": {
    "name": "ipython",
    "version": 3
   },
   "file_extension": ".py",
   "mimetype": "text/x-python",
   "name": "python",
   "nbconvert_exporter": "python",
   "pygments_lexer": "ipython3",
   "version": "3.12.5"
  }
 },
 "nbformat": 4,
 "nbformat_minor": 2
}
